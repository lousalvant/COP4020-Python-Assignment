{
 "cells": [
  {
   "cell_type": "markdown",
   "metadata": {},
   "source": [
    "## One Day Python Assignment\n",
    "This is the assignment intended to teach Python from the basics all the way to using Pandas Dataframes. It is not intended to be comprehensive, but rather a survey of the major topics to get the learner from point A to B.    \n",
    "   \n",
    "Part 1 will be worth 100 points and Part 2 will be worth 100 points. There will only be one assignment on Canvas worth 100 points. The final grade for this will be divided by 2 and rounded up.     \n",
    "So if you got 100 on Part 1 and 67 on Part 2, you will have 167 / 2 = 83.5. Extra credit is added onto Part 1, so, again: if you got 110 on Part 1 and 67 on Part 2, you will have 177 / 2 = 90."
   ]
  },
  {
   "cell_type": "markdown",
   "metadata": {},
   "source": [
    "### PART 1"
   ]
  },
  {
   "cell_type": "markdown",
   "metadata": {},
   "source": [
    " 1. Print “Hello World”  (2 pts)"
   ]
  },
  {
   "cell_type": "code",
   "execution_count": 1,
   "metadata": {},
   "outputs": [
    {
     "name": "stdout",
     "output_type": "stream",
     "text": [
      "Hello World\n"
     ]
    }
   ],
   "source": [
    "print(\"Hello World\")"
   ]
  },
  {
   "cell_type": "markdown",
   "metadata": {},
   "source": [
    "2.  Save your age to a variable called “age”    \n",
    "3.  Print “Hello World, I’m (age variable) today.”    (5 pts)"
   ]
  },
  {
   "cell_type": "code",
   "execution_count": 2,
   "metadata": {},
   "outputs": [
    {
     "name": "stdout",
     "output_type": "stream",
     "text": [
      "Hello World, I'm 25 today.\n"
     ]
    }
   ],
   "source": [
    "age = 25\n",
    "print(\"Hello World, I'm\", age, \"today.\")"
   ]
  },
  {
   "cell_type": "markdown",
   "metadata": {},
   "source": [
    "4. Print “hello world” in all upper case using a Python string method to alter it (4 pts)"
   ]
  },
  {
   "cell_type": "code",
   "execution_count": 3,
   "metadata": {},
   "outputs": [
    {
     "name": "stdout",
     "output_type": "stream",
     "text": [
      "HELLO WORLD\n"
     ]
    }
   ],
   "source": [
    "message = \"Hello World\"\n",
    "print(message.upper())"
   ]
  },
  {
   "cell_type": "markdown",
   "metadata": {},
   "source": [
    " 5. Save any decimal in a variable called a.   \n",
    " Cast a into an int and save it as b.  \n",
    " Cast a into a string and save it as c.   \n",
    " Print each variable and its type.   (11 pts)"
   ]
  },
  {
   "cell_type": "code",
   "execution_count": 4,
   "metadata": {},
   "outputs": [
    {
     "name": "stdout",
     "output_type": "stream",
     "text": [
      "a: 1.23 , Type: <class 'float'>\n",
      "b: 1 , Type: <class 'int'>\n",
      "c: 1.23 , Type: <class 'str'>\n"
     ]
    }
   ],
   "source": [
    "a = 1.23\n",
    "b = int(a)\n",
    "c = str(a)\n",
    "\n",
    "print(\"a:\", a, \", Type:\", type(a))\n",
    "print(\"b:\", b, \", Type:\", type(b))\n",
    "print(\"c:\", c, \", Type:\", type(c))"
   ]
  },
  {
   "cell_type": "markdown",
   "metadata": {},
   "source": [
    "6. Create a tuple of your favorite things to eat and print it.   (4 pts)"
   ]
  },
  {
   "cell_type": "code",
   "execution_count": 5,
   "metadata": {},
   "outputs": [
    {
     "name": "stdout",
     "output_type": "stream",
     "text": [
      "My favorite foods: ('Chicken', 'Pizza', 'Hamburgers', 'Sushi')\n"
     ]
    }
   ],
   "source": [
    "fav_food = (\"Chicken\", \"Pizza\", \"Hamburgers\", \"Sushi\")\n",
    "\n",
    "print(\"My favorite foods:\", fav_food)"
   ]
  },
  {
   "cell_type": "markdown",
   "metadata": {},
   "source": [
    "7. Create a dictionary named ‘classes’ with the name of the classes you are taking as the keys and the professors names as the values. \n",
    "Print the dictionary and tuple.   (10 pts)"
   ]
  },
  {
   "cell_type": "code",
   "execution_count": 6,
   "metadata": {},
   "outputs": [
    {
     "name": "stdout",
     "output_type": "stream",
     "text": [
      "{'Principles of Programming Languages': 'Professor Lloyd', 'Intro to Deep Learning': 'Professor Ghoraani', 'Computer Architecture': 'Professor Alhalabi', 'Full-Stack Web Devolopment': 'Professor Jaramillo'}\n"
     ]
    }
   ],
   "source": [
    "classes = {\n",
    "    \"Principles of Programming Languages\": \"Professor Lloyd\",\n",
    "    \"Intro to Deep Learning\": \"Professor Ghoraani\",\n",
    "    \"Computer Architecture\": \"Professor Alhalabi\",\n",
    "    \"Full-Stack Web Devolopment\": \"Professor Jaramillo\"\n",
    "}\n",
    "\n",
    "print(classes)"
   ]
  },
  {
   "cell_type": "markdown",
   "metadata": {},
   "source": [
    "8. Create a list called “whole” and put every number in it from 1 - 100  (10 pts)"
   ]
  },
  {
   "cell_type": "code",
   "execution_count": 7,
   "metadata": {},
   "outputs": [
    {
     "name": "stdout",
     "output_type": "stream",
     "text": [
      "[1, 2, 3, 4, 5, 6, 7, 8, 9, 10, 11, 12, 13, 14, 15, 16, 17, 18, 19, 20, 21, 22, 23, 24, 25, 26, 27, 28, 29, 30, 31, 32, 33, 34, 35, 36, 37, 38, 39, 40, 41, 42, 43, 44, 45, 46, 47, 48, 49, 50, 51, 52, 53, 54, 55, 56, 57, 58, 59, 60, 61, 62, 63, 64, 65, 66, 67, 68, 69, 70, 71, 72, 73, 74, 75, 76, 77, 78, 79, 80, 81, 82, 83, 84, 85, 86, 87, 88, 89, 90, 91, 92, 93, 94, 95, 96, 97, 98, 99, 100]\n"
     ]
    }
   ],
   "source": [
    "whole = list(range(1, 101))\n",
    "\n",
    "print(whole)"
   ]
  },
  {
   "cell_type": "markdown",
   "metadata": {},
   "source": [
    "9. Create 4 empty lists called ‘div2’, ‘div3’, ‘div4’, and ‘div5’       \n",
    "Create a loop that examines each number from 1 to 100 and:    \n",
    " If it is divisible by 2, put it in div2   (6 pts)    \n",
    " If it is divisible by 3, put it in div3   (6 pts)     \n",
    " If it is divisible by 4, put it in div4   (6 pts)    \n",
    " If it is divisible by 5, put it in div5   (6 pts)    \n",
    " Print all 5 of these lists"
   ]
  },
  {
   "cell_type": "code",
   "execution_count": 8,
   "metadata": {},
   "outputs": [
    {
     "name": "stdout",
     "output_type": "stream",
     "text": [
      "Numbers divisible by 2: [2, 4, 6, 8, 10, 12, 14, 16, 18, 20, 22, 24, 26, 28, 30, 32, 34, 36, 38, 40, 42, 44, 46, 48, 50, 52, 54, 56, 58, 60, 62, 64, 66, 68, 70, 72, 74, 76, 78, 80, 82, 84, 86, 88, 90, 92, 94, 96, 98, 100]\n",
      "Numbers divisible by 3: [3, 6, 9, 12, 15, 18, 21, 24, 27, 30, 33, 36, 39, 42, 45, 48, 51, 54, 57, 60, 63, 66, 69, 72, 75, 78, 81, 84, 87, 90, 93, 96, 99]\n",
      "Numbers divisible by 4: [4, 8, 12, 16, 20, 24, 28, 32, 36, 40, 44, 48, 52, 56, 60, 64, 68, 72, 76, 80, 84, 88, 92, 96, 100]\n",
      "Numbers divisible by 5: [5, 10, 15, 20, 25, 30, 35, 40, 45, 50, 55, 60, 65, 70, 75, 80, 85, 90, 95, 100]\n"
     ]
    }
   ],
   "source": [
    "div2 = []\n",
    "div3 = []\n",
    "div4 = []\n",
    "div5 = []\n",
    "\n",
    "for num in range(1, 101):\n",
    "    if num % 2 == 0:\n",
    "        div2.append(num)\n",
    "    if num % 3 == 0:\n",
    "        div3.append(num)\n",
    "    if num % 4 == 0:\n",
    "        div4.append(num)\n",
    "    if num % 5 == 0:\n",
    "        div5.append(num)\n",
    "\n",
    "print(\"Numbers divisible by 2:\", div2)\n",
    "print(\"Numbers divisible by 3:\", div3)\n",
    "print(\"Numbers divisible by 4:\", div4)\n",
    "print(\"Numbers divisible by 5:\", div5)\n"
   ]
  },
  {
   "cell_type": "markdown",
   "metadata": {},
   "source": [
    "10. Create a new list called “divOver5”   (3 pts)"
   ]
  },
  {
   "cell_type": "code",
   "execution_count": 9,
   "metadata": {},
   "outputs": [],
   "source": [
    "divOver5 = []"
   ]
  },
  {
   "cell_type": "markdown",
   "metadata": {},
   "source": [
    "11. Create a new loop that goes through each number 1 through 100 and appends it to divOver5 if it is NOT IN div2 or div3 or div4 or div5      \n",
    " You must use logical operators here.   \n",
    "Print divOver5   (10 points)    "
   ]
  },
  {
   "cell_type": "code",
   "execution_count": 10,
   "metadata": {},
   "outputs": [
    {
     "name": "stdout",
     "output_type": "stream",
     "text": [
      "Numbers not divisible by 2, 3, 4, or 5: [1, 7, 11, 13, 17, 19, 23, 29, 31, 37, 41, 43, 47, 49, 53, 59, 61, 67, 71, 73, 77, 79, 83, 89, 91, 97]\n"
     ]
    }
   ],
   "source": [
    "for num in range(1, 101):\n",
    "    if num not in div2 and num not in div3 and num not in div4 and num not in div5:\n",
    "        divOver5.append(num)\n",
    "\n",
    "\n",
    "print(\"Numbers not divisible by 2, 3, 4, or 5:\", divOver5)"
   ]
  },
  {
   "cell_type": "markdown",
   "metadata": {},
   "source": [
    "12. Create a function called exp3 that takes an int x, raises it to the third power.     \n",
    "Create a string in the function that says “x^3 = “ and concatenate x onto the end of the string.      \n",
    "Now return the string from the function.  Call the function exp3 and print what it returns.   (15 pts)"
   ]
  },
  {
   "cell_type": "code",
   "execution_count": 12,
   "metadata": {},
   "outputs": [
    {
     "name": "stdout",
     "output_type": "stream",
     "text": [
      "x^3 = 512\n"
     ]
    }
   ],
   "source": [
    "def exp3(x):\n",
    "    result = x ** 3\n",
    "    \n",
    "    output = \"x^3 = \" + str(result)\n",
    "    \n",
    "    return output\n",
    "\n",
    "print(exp3(8))"
   ]
  },
  {
   "cell_type": "markdown",
   "metadata": {},
   "source": [
    "13. Iterate through the classes dictionary and print the keys    (5 pts)"
   ]
  },
  {
   "cell_type": "code",
   "execution_count": 13,
   "metadata": {},
   "outputs": [
    {
     "name": "stdout",
     "output_type": "stream",
     "text": [
      "Principles of Programming Languages\n",
      "Intro to Deep Learning\n",
      "Computer Architecture\n",
      "Full-Stack Web Devolopment\n"
     ]
    }
   ],
   "source": [
    "for class_name in classes.keys():\n",
    "    print(class_name)"
   ]
  },
  {
   "cell_type": "markdown",
   "metadata": {},
   "source": [
    "14. Iterate through the classes dictionary and print the values   (5 pts)"
   ]
  },
  {
   "cell_type": "code",
   "execution_count": 14,
   "metadata": {},
   "outputs": [
    {
     "name": "stdout",
     "output_type": "stream",
     "text": [
      "Professor Lloyd\n",
      "Professor Ghoraani\n",
      "Professor Alhalabi\n",
      "Professor Jaramillo\n"
     ]
    }
   ],
   "source": [
    "for professor_name in classes.values():\n",
    "    print(professor_name)"
   ]
  },
  {
   "cell_type": "markdown",
   "metadata": {},
   "source": [
    "(Worth +10 points) Extra Points:   \n",
    "Create a class called Student that has the properties:    \n",
    "\tname (holds student name)    \n",
    "\tage (holds student age)    \n",
    "\tbirthmonth (hold students birthmonth)\n",
    "\t\n",
    "\tA count variable exists that is set to 0 (see lecture) and upon each call to the class this variable increments     \n",
    "\n",
    "\t2 functions in the class:  displayName which returns the name of the student and displayBirthmonth which returns the birth month of the student    \n",
    "\n",
    "\tNow create 3 students, use whatever data you want.       \n",
    "\tCall displayName() on student1     \n",
    "\tCall displayBirthmonth() on student2    \n",
    "\tprint the student count    \n"
   ]
  },
  {
   "cell_type": "code",
   "execution_count": 15,
   "metadata": {},
   "outputs": [
    {
     "name": "stdout",
     "output_type": "stream",
     "text": [
      "Name of Student 1: Sally\n",
      "Birth Month of Student 2: July\n",
      "Student count: 3\n"
     ]
    }
   ],
   "source": [
    "class Student:\n",
    "    count = 0\n",
    "    \n",
    "    def __init__(self, name, age, birthmonth):\n",
    "        self.name = name\n",
    "        self.age = age\n",
    "        self.birthmonth = birthmonth\n",
    "        Student.count += 1\n",
    "    \n",
    "    def displayName(self):\n",
    "        return self.name\n",
    "    \n",
    "    def displayBirthmonth(self):\n",
    "        return self.birthmonth\n",
    "\n",
    "student1 = Student(\"Sally\", 18, \"June\")\n",
    "student2 = Student(\"John\", 19, \"July\")\n",
    "student3 = Student(\"Sam\", 20, \"August\")\n",
    "\n",
    "print(\"Name of Student 1:\", student1.displayName())\n",
    "print(\"Birth Month of Student 2:\", student2.displayBirthmonth())\n",
    "\n",
    "print(\"Student count:\", Student.count)\n"
   ]
  },
  {
   "cell_type": "markdown",
   "metadata": {},
   "source": [
    "### PART 2"
   ]
  },
  {
   "cell_type": "markdown",
   "metadata": {},
   "source": [
    "This part will require you to use the film_results.txt file provided on Canvas. You will also need to import NumPy and Pandas."
   ]
  },
  {
   "cell_type": "markdown",
   "metadata": {},
   "source": [
    "1. Move the film_results.txt file from Blackboard into your project directory.     \n",
    " Create 3 lists, one for states, one for shows, and one for viewers.     \n",
    " Ingest data from text file and put it into a NumPy array (show_results.txt)      \n",
    "\tItll look like a nested list.       \n",
    "          [ [‘Oregon’, ‘Once Upon a Time’, ‘4075’] [...] …]     \n",
    " Print the raw data   (10 pts)    "
   ]
  },
  {
   "cell_type": "code",
   "execution_count": null,
   "metadata": {},
   "outputs": [],
   "source": [
    "import numpy as np\n",
    "\n",
    "states = []\n",
    "shows = []\n",
    "viewers = []\n",
    "\n",
    "with open(\"film_results.txt\", \"r\") as file:\n",
    "    for line in file:\n",
    "        data = line.strip().split(\",\")\n",
    "        states.append(data[0])\n",
    "        shows.append(data[1])\n",
    "        viewers.append(int(data[2]))\n",
    "\n",
    "film_results = np.array([states, shows, viewers]).T\n",
    "\n",
    "print(\"Raw data:\")\n",
    "print(film_results)\n"
   ]
  },
  {
   "cell_type": "markdown",
   "metadata": {},
   "source": [
    "2.  Take the data from the NumPy array and sort it by state, show and viewers, putting each into the appropriate lists you defined earlier.  (so now you have 3 lists, one with states, one with shows and one with viewer counts.)  No duplicates in the states and shows.  Duplicates can and should exist in the viewers.      \n",
    "So the states list will look like this: ['Washington', 'Nevada', 'Idaho', 'California', 'Oregon']      \n",
    " Print these unsorted lists    (5 pts)"
   ]
  },
  {
   "cell_type": "code",
   "execution_count": null,
   "metadata": {},
   "outputs": [],
   "source": [
    "sorted_results = film_results[np.lexsort((film_results[:, 2], film_results[:, 1], film_results[:, 0]))]\n",
    "\n",
    "sorted_states = []\n",
    "sorted_shows = []\n",
    "sorted_viewers = []\n",
    "\n",
    "for row in sorted_results:\n",
    "    state = row[0]\n",
    "    show = row[1]\n",
    "    viewers = row[2]\n",
    "    \n",
    "    if state not in sorted_states:\n",
    "        sorted_states.append(state)\n",
    "    if show not in sorted_shows:\n",
    "        sorted_shows.append(show)\n",
    "    \n",
    "    sorted_viewers.append(viewers)\n",
    "\n",
    "print(\"States:\", sorted_states)\n",
    "print(\"Shows:\", sorted_shows)\n",
    "print(\"Viewer counts:\", sorted_viewers)"
   ]
  },
  {
   "cell_type": "markdown",
   "metadata": {},
   "source": [
    "3. Convert all 3 lists into NumPy arrays     \n",
    " print new NumPy Arrays    (10 pts)"
   ]
  },
  {
   "cell_type": "code",
   "execution_count": null,
   "metadata": {},
   "outputs": [],
   "source": [
    "states_array = np.array(sorted_states)\n",
    "shows_array = np.array(sorted_shows)\n",
    "viewers_array = np.array(sorted_viewers)\n",
    "\n",
    "print(\"States:\", states_array)\n",
    "print(\"Shows:\", shows_array)\n",
    "print(\"Viewer counts:\", viewers_array)"
   ]
  },
  {
   "cell_type": "markdown",
   "metadata": {},
   "source": [
    "4. Sort the States and Shows arrays      \n",
    "\tNow your States array will look like:      \n",
    "\t['California', 'Idaho', 'Nevada', 'Oregon', 'Washington']      \n",
    "Convert the Viewers array from STRINGS into INTS      \n",
    "Sum up viewers list into one variable (you can do this in one line)       \n",
    "Print: Sorted arrays (states and shows), viewers list (as ints), and the variable that is the sum of the viewers list.        (30 pts)"
   ]
  },
  {
   "cell_type": "code",
   "execution_count": null,
   "metadata": {},
   "outputs": [],
   "source": [
    "sorted_states_array = np.sort(states_array)\n",
    "sorted_shows_array = np.sort(shows_array)\n",
    "\n",
    "viewers_array_int = viewers_array.astype(int)\n",
    "\n",
    "total_viewers = np.sum(viewers_array_int)\n",
    "\n",
    "print(\"States:\", sorted_states_array)\n",
    "print(\"Shows:\", sorted_shows_array)\n",
    "print(\"Viewers list (as ints):\", viewers_array_int)\n",
    "print(\"Total viewers:\", total_viewers)"
   ]
  },
  {
   "cell_type": "markdown",
   "metadata": {},
   "source": [
    "5. Create 2 DataFrames:      \n",
    "show_raw_stats: index = numpy sorted array of SHOWS; columns = numpy sorted array of STATES      \n",
    "show_agg_stats: index = same as above; columns= a list with the words Max, Min, Totals and Percent in it (like this… [‘Max’,’Min’,’Totals’, ‘Percent’]        \n",
    "Populate show_raw_stats with data from the Original Array ingested from film_results.txt. \n",
    "Populate the Max, Min, Totals, and Percent in show_agg_stats using the DataFrame native functionality    \n",
    "Print both dataframe   (30 pts)     \n",
    "\n",
    "HINT:  You will need to create a loop here that basically goes the length of the original array, and on each iteration, it grabs the STATE, SHOW, and VIEWERS number (itll be a string so youll have to convert it…).    \n",
    "The final step of each iteration will be placing it in the dataframe in the correct spot as an accumulation. +=      (Otherwise you just writing over the value there)     \n"
   ]
  },
  {
   "cell_type": "code",
   "execution_count": null,
   "metadata": {},
   "outputs": [],
   "source": [
    "show_raw_stats = pd.DataFrame(index=np.sort(shows_array), columns=np.sort(states_array))\n",
    "\n",
    "agg_stats_columns = ['Max', 'Min', 'Totals', 'Percent']\n",
    "show_agg_stats = pd.DataFrame(index=np.sort(shows_array), columns=agg_stats_columns)\n",
    "\n",
    "for i in range(len(film_results)):\n",
    "    state = film_results[i][0]\n",
    "    show = film_results[i][1]\n",
    "    viewers = int(film_results[i][2])\n",
    "    \n",
    "    show_raw_stats.loc[show, state] = viewers\n",
    "\n",
    "for show in show_agg_stats.index:\n",
    "    max_viewers = show_raw_stats.loc[show].max()\n",
    "    min_viewers = show_raw_stats.loc[show].min()\n",
    "    total_viewers = show_raw_stats.loc[show].sum()\n",
    "    percent_viewers = (total_viewers / show_raw_stats.values.sum()) * 100\n",
    "    \n",
    "    show_agg_stats.loc[show, 'Max'] = max_viewers\n",
    "    show_agg_stats.loc[show, 'Min'] = min_viewers\n",
    "    show_agg_stats.loc[show, 'Totals'] = total_viewers\n",
    "    show_agg_stats.loc[show, 'Percent'] = percent_viewers\n",
    "\n",
    "print(show_raw_stats)\n",
    "print(show_agg_stats)"
   ]
  },
  {
   "cell_type": "markdown",
   "metadata": {},
   "source": [
    "6. Print the answer to these questions in a Markdown cell, do not print them with Python:        \n",
    "Which Show has the highest percentage?   (5 pts)      \n",
    "Which Show has the lowest percentage?    (5 pts)     \n",
    "Which show is your favorite?             (5 pts)     "
   ]
  },
  {
   "cell_type": "markdown",
   "metadata": {},
   "source": [
    "Better Call Saul has the highest percentage.\n",
    "\n",
    "Suits has the lowest percentage.\n",
    "\n",
    "The Walking Dead is my favorite of these shows."
   ]
  },
  {
   "cell_type": "markdown",
   "metadata": {},
   "source": [
    "### Please try to follow the directions as closely as possible.  You might think of better ways to implement this, with less lines of code the skips steps and thats great, but not for this assignment.  If you do think of these, put them in comments and extra points will be given for those but follow these steps."
   ]
  },
  {
   "cell_type": "markdown",
   "metadata": {},
   "source": []
  }
 ],
 "metadata": {
  "kernelspec": {
   "display_name": "base",
   "language": "python",
   "name": "python3"
  },
  "language_info": {
   "codemirror_mode": {
    "name": "ipython",
    "version": 3
   },
   "file_extension": ".py",
   "mimetype": "text/x-python",
   "name": "python",
   "nbconvert_exporter": "python",
   "pygments_lexer": "ipython3",
   "version": "3.12.2"
  }
 },
 "nbformat": 4,
 "nbformat_minor": 2
}
